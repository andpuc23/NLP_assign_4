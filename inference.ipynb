{
 "cells": [
  {
   "cell_type": "code",
   "execution_count": 30,
   "metadata": {},
   "outputs": [],
   "source": [
    "import torch\n",
    "from parser_model import ParserModel\n",
    "from utils.parser_utils import minibatches, load_and_preprocess_data, read_conll\n",
    "import numpy as np\n",
    "import pandas as pd"
   ]
  },
  {
   "cell_type": "code",
   "execution_count": 2,
   "metadata": {},
   "outputs": [],
   "source": [
    "weights_path = 'results/20240516_155227/model.weights'"
   ]
  },
  {
   "cell_type": "code",
   "execution_count": 3,
   "metadata": {},
   "outputs": [
    {
     "name": "stdout",
     "output_type": "stream",
     "text": [
      "Loading data...\n",
      "took 1.37 seconds\n",
      "Building parser...\n",
      "took 0.89 seconds\n",
      "Loading pretrained embeddings...\n",
      "took 2.61 seconds\n",
      "Vectorizing data...\n",
      "took 1.19 seconds\n",
      "Preprocessing training data...\n",
      "took 27.53 seconds\n"
     ]
    }
   ],
   "source": [
    "parser, embeddings, train_data, dev_data, test_data = load_and_preprocess_data(False)"
   ]
  },
  {
   "cell_type": "code",
   "execution_count": 6,
   "metadata": {},
   "outputs": [
    {
     "data": {
      "text/plain": [
       "<All keys matched successfully>"
      ]
     },
     "execution_count": 6,
     "metadata": {},
     "output_type": "execute_result"
    }
   ],
   "source": [
    "parser.model = ParserModel(embeddings)\n",
    "parser.model.load_state_dict(torch.load(weights_path))"
   ]
  },
  {
   "cell_type": "code",
   "execution_count": 79,
   "metadata": {},
   "outputs": [
    {
     "name": "stderr",
     "output_type": "stream",
     "text": [
      "1445850it [00:00, 55610586.32it/s]      \n"
     ]
    }
   ],
   "source": [
    "_, predictions = parser.parse(dev_data)\n",
    "\n",
    "\n",
    "unvectorized_dataset = read_conll('data/dev.conll')\n",
    "flat_preds = []\n",
    "heads = [np.array(s['head']) for s in unvectorized_dataset]\n",
    "for ds_index, head in enumerate(heads):\n",
    "    predicted_deps = predictions[ds_index]\n",
    "    flat_preds.append([x[0] for x in sorted(predicted_deps, key=lambda x:x[1])])\n",
    "\n",
    "flat_predictions = [p for pred in flat_preds for p in pred]\n",
    "\n",
    "df = pd.read_csv('data/dev.pred.conll', header=None,  sep='\\t')\n",
    "\n",
    "df[6] = flat_predictions\n",
    "df.to_csv('data/dev.pred.conll', index=False, sep='\\t')\n",
    "\n",
    "with open('data/dev.pred.conll', \"r\") as f:\n",
    "    string = f.read()\n",
    "\n",
    "string = string.replace('\\n1\\t', '\\n\\n1\\t')\n",
    "\n",
    "with open('data/dev.pred.conll', \"w\") as f:\n",
    "    f.write(string)\n",
    "\n",
    "\n",
    "### DONT FORGET TO REMOVE HEADER"
   ]
  },
  {
   "cell_type": "code",
   "execution_count": null,
   "metadata": {},
   "outputs": [],
   "source": [
    "_, predictions = parser.parse(test_data)\n",
    "\n",
    "\n",
    "unvectorized_dataset = read_conll('data/test.conll')\n",
    "flat_preds = []\n",
    "heads = [np.array(s['head']) for s in unvectorized_dataset]\n",
    "for ds_index, head in enumerate(heads):\n",
    "    predicted_deps = predictions[ds_index]\n",
    "    flat_preds.append([x[0] for x in sorted(predicted_deps, key=lambda x:x[1])])\n",
    "\n",
    "flat_predictions = [p for pred in flat_preds for p in pred]\n",
    "\n",
    "df = pd.read_csv('data/test.pred.conll', header=None,  sep='\\t')\n",
    "\n",
    "df[6] = flat_predictions\n",
    "df.to_csv('data/test.pred.conll', index=False, sep='\\t')\n",
    "\n",
    "with open('data/test.pred.conll', \"r\") as f:\n",
    "    string = f.read()\n",
    "\n",
    "string = string.replace('\\n1\\t', '\\n\\n1\\t')\n",
    "\n",
    "with open('data/test.pred.conll', \"w\") as f:\n",
    "    f.write(string)\n",
    "\n",
    "\n",
    "### DONT FORGET TO REMOVE HEADER"
   ]
  }
 ],
 "metadata": {
  "kernelspec": {
   "display_name": "nlp_a4",
   "language": "python",
   "name": "python3"
  },
  "language_info": {
   "codemirror_mode": {
    "name": "ipython",
    "version": 3
   },
   "file_extension": ".py",
   "mimetype": "text/x-python",
   "name": "python",
   "nbconvert_exporter": "python",
   "pygments_lexer": "ipython3",
   "version": "3.7.16"
  }
 },
 "nbformat": 4,
 "nbformat_minor": 2
}
